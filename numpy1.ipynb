{
 "cells": [
  {
   "cell_type": "markdown",
   "id": "68b2bb3a-190d-4184-b7b0-357654109960",
   "metadata": {},
   "source": [
    "# NUMPY LEARNING"
   ]
  },
  {
   "cell_type": "code",
   "execution_count": 5,
   "id": "ac9ee581-6edc-4f3c-9e5c-58d31dadadf5",
   "metadata": {},
   "outputs": [
    {
     "name": "stdout",
     "output_type": "stream",
     "text": [
      "[[0.53380222 0.73039395 0.25708109 0.37571843 0.44836825 0.04223986]\n",
      " [0.26228997 0.87606642 0.07224747 0.4611338  0.31187758 0.18271121]\n",
      " [0.84154416 0.17586381 0.93731404 0.49782386 0.55331768 0.24457547]]\n"
     ]
    }
   ],
   "source": [
    "# Create an array of random floats which has six columns and three rows\n",
    "import numpy as np\n",
    "random_array = np.random.random((3,6))\n",
    "print(random_array)"
   ]
  },
  {
   "cell_type": "code",
   "execution_count": 9,
   "id": "250c5cdb-de96-4857-8298-288e7ce1ae21",
   "metadata": {},
   "outputs": [
    {
     "data": {
      "image/png": "[encoded data removed]",
      "text/plain": [
       "<Figure size 640x480 with 1 Axes>"
      ]
     },
     "metadata": {},
     "output_type": "display_data"
    }
   ],
   "source": [
    "# Create an array of integers from one to ten\n",
    "import matplotlib.pyplot as plt\n",
    "one_to_ten = np.arange(1,11)\n",
    "\n",
    "# create a doubling_array.\n",
    "doubling_array = [1, 2, 4, 8, 16, 32, 64, 128, 256, 512]\n",
    "\n",
    "# Create your scatterplot\n",
    "plt.scatter(one_to_ten, doubling_array)\n",
    "plt.show()"
   ]
  },
  {
   "cell_type": "code",
   "execution_count": 37,
   "id": "8f7ca34c-2846-4ea5-a29f-f6163f4e2fc9",
   "metadata": {},
   "outputs": [
    {
     "name": "stdout",
     "output_type": "stream",
     "text": [
      "[[[1 2]\n",
      "  [5 7]]\n",
      "\n",
      " [[8 9]\n",
      "  [5 7]]\n",
      "\n",
      " [[1 2]\n",
      "  [5 7]]]\n"
     ]
    }
   ],
   "source": [
    "array_1_2D = np.array([[1, 2], [5, 7]])\n",
    "array_2_2D = np.array([[8, 9], [5, 7]])\n",
    "array_3_2D = np.array([[1, 2], [5, 7]])\n",
    "array_3D = np.array([array_1_2D, array_2_2D, array_3_2D])\n",
    "print(array_3D)"
   ]
  },
  {
   "cell_type": "code",
   "execution_count": 39,
   "id": "2111edc9-ce4b-4eec-b1a6-f2c23ec2e8a0",
   "metadata": {},
   "outputs": [
    {
     "data": {
      "text/plain": [
       "(3, 2, 2)"
      ]
     },
     "execution_count": 39,
     "metadata": {},
     "output_type": "execute_result"
    }
   ],
   "source": [
    "array_3D.shape"
   ]
  },
  {
   "cell_type": "code",
   "execution_count": 61,
   "id": "e9871459-65c7-4d65-b65f-4a8cef9149fa",
   "metadata": {},
   "outputs": [
    {
     "name": "stdout",
     "output_type": "stream",
     "text": [
      "[1 2 5 7 8 9 5 7 1 2 5 7]\n"
     ]
    }
   ],
   "source": [
    "# flatten() is used to change a 2 or 3 dimensional array to a one dimensional one.\n",
    "flatten = array_3D.flatten()\n",
    "print(flatten)"
   ]
  },
  {
   "cell_type": "code",
   "execution_count": 51,
   "id": "d97c590d-2677-4f0e-9a9e-67fc7869f47b",
   "metadata": {},
   "outputs": [
    {
     "data": {
      "text/plain": [
       "(12,)"
      ]
     },
     "execution_count": 51,
     "metadata": {},
     "output_type": "execute_result"
    }
   ],
   "source": [
    "flatten.shape"
   ]
  },
  {
   "cell_type": "code",
   "execution_count": 59,
   "id": "7198c15c-e007-4056-95c9-2466492fd4c2",
   "metadata": {},
   "outputs": [
    {
     "data": {
      "text/plain": [
       "array([[1, 2, 5, 7],\n",
       "       [8, 9, 5, 7],\n",
       "       [1, 2, 5, 7]])"
      ]
     },
     "execution_count": 59,
     "metadata": {},
     "output_type": "execute_result"
    }
   ],
   "source": [
    "# reshape() is used to change the shape of an array.\n",
    "reshaped = flatten.reshape((3,4))\n",
    "reshaped"
   ]
  },
  {
   "cell_type": "code",
   "execution_count": 63,
   "id": "51fd8dcc-5f44-478e-b470-782d4d9a4dd8",
   "metadata": {},
   "outputs": [
    {
     "name": "stdout",
     "output_type": "stream",
     "text": [
      "float64\n",
      "int32\n"
     ]
    }
   ],
   "source": [
    "# Create an array of zeros with three rows and two columns\n",
    "zero_array = np.zeros((3, 2))\n",
    "\n",
    "# Print the data type of zero_array\n",
    "print(zero_array.dtype)\n",
    "\n",
    "# Create a new array of int32 zeros with three rows and two columns\n",
    "zero_int_array = np.zeros((3,2), dtype = np.int32)\n",
    "\n",
    "# Print the data type of zero_int_array\n",
    "print(zero_int_array.dtype)"
   ]
  },
  {
   "cell_type": "code",
   "execution_count": 69,
   "id": "c655635c-825e-4fb5-b28a-a360ca5646c4",
   "metadata": {},
   "outputs": [
    {
     "name": "stdout",
     "output_type": "stream",
     "text": [
      "int8\n"
     ]
    }
   ],
   "source": [
    "new = zero_int_array.astype(np.int8)\n",
    "print(new.dtype)"
   ]
  },
  {
   "cell_type": "code",
   "execution_count": null,
   "id": "992ad9a2-dabd-4aba-902e-0c6fba46b389",
   "metadata": {},
   "outputs": [],
   "source": []
  }
 ],
 "metadata": {
  "kernelspec": {
   "display_name": "Python 3 (ipykernel)",
   "language": "python",
   "name": "python3"
  },
  "language_info": {
   "codemirror_mode": {
    "name": "ipython",
    "version": 3
   },
   "file_extension": ".py",
   "mimetype": "text/x-python",
   "name": "python",
   "nbconvert_exporter": "python",
   "pygments_lexer": "ipython3",
   "version": "3.12.7"
  }
 },
 "nbformat": 4,
 "nbformat_minor": 5
}
