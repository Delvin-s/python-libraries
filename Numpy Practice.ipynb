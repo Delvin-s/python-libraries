{
 "cells": [
  {
   "cell_type": "markdown",
   "id": "c0b4e7e7-642a-4459-b674-0d456d4f2772",
   "metadata": {},
   "source": [
    "# Numpy Exercise"
   ]
  },
  {
   "cell_type": "markdown",
   "id": "73df05a5-7c9c-4d51-bb51-247134aff3dd",
   "metadata": {},
   "source": [
    " # Create a 1D NumPy array of numbers from 0 to 9"
   ]
  },
  {
   "cell_type": "code",
   "execution_count": 11,
   "id": "a8df727b-f10e-4803-bdb6-f661c0c6b77f",
   "metadata": {},
   "outputs": [
    {
     "name": "stdout",
     "output_type": "stream",
     "text": [
      "[0 1 2 3 4 5 6 7 8 9]\n"
     ]
    }
   ],
   "source": [
    "import numpy as np\n",
    "ar = np.arange(10)\n",
    "print(ar)"
   ]
  },
  {
   "cell_type": "markdown",
   "id": "5c6a297e-558d-434c-902d-3cdf6e7ccdc1",
   "metadata": {},
   "source": [
    "# Convert 1D array to 2D"
   ]
  },
  {
   "cell_type": "code",
   "execution_count": 17,
   "id": "1b1b4c9d-78b9-42ac-a28e-17f7359ad143",
   "metadata": {},
   "outputs": [
    {
     "name": "stdout",
     "output_type": "stream",
     "text": [
      "[[0 1 2]\n",
      " [3 4 5]]\n"
     ]
    }
   ],
   "source": [
    "ar = np.arange(6)\n",
    "arr = ar.reshape(2,3)\n",
    "print(arr)"
   ]
  },
  {
   "cell_type": "markdown",
   "id": "eb1817e0-36e9-4584-8b1a-7e98ec8084a0",
   "metadata": {},
   "source": [
    "# Print Array Attributes\n",
    "\n",
    "Instructions: Print the following attributes of the array:\n",
    "\n",
    "The shape of the array.\n",
    "\n",
    "The number of array dimensions.\n",
    "\n",
    "The size of each element in bytes."
   ]
  },
  {
   "cell_type": "code",
   "execution_count": 26,
   "id": "c65efb89-a2a4-4dc0-a8dc-6fa9764ca1c5",
   "metadata": {},
   "outputs": [
    {
     "name": "stdout",
     "output_type": "stream",
     "text": [
      "The shape of the array is: (4, 2)\n"
     ]
    }
   ],
   "source": [
    "my_array = np.array([[1, 2], [3, 4], [5, 6], [7, 8]], dtype=np.uint16)\n",
    "print('The shape of the array is:', my_array.shape)"
   ]
  },
  {
   "cell_type": "code",
   "execution_count": 28,
   "id": "f6fa94f7-0c92-4592-91ed-a3813570ba4b",
   "metadata": {},
   "outputs": [
    {
     "name": "stdout",
     "output_type": "stream",
     "text": [
      "The number of dimensions is: 2\n"
     ]
    }
   ],
   "source": [
    "print('The number of dimensions is:', my_array.ndim)"
   ]
  },
  {
   "cell_type": "code",
   "execution_count": 30,
   "id": "9f6713c9-b965-4285-b174-26cac602a889",
   "metadata": {},
   "outputs": [
    {
     "name": "stdout",
     "output_type": "stream",
     "text": [
      "The size of each element in bytes is: 2\n"
     ]
    }
   ],
   "source": [
    "print('The size of each element in bytes is:', my_array.itemsize)"
   ]
  },
  {
   "cell_type": "markdown",
   "id": "52ac7d99-62f8-4ea8-9912-b947aaec0b66",
   "metadata": {},
   "source": [
    "# Create a 3×3 NumPy array of all True"
   ]
  },
  {
   "cell_type": "code",
   "execution_count": 37,
   "id": "1cd321ae-05cd-483c-b6a2-bb35c482d8e9",
   "metadata": {},
   "outputs": [
    {
     "name": "stdout",
     "output_type": "stream",
     "text": [
      "[[ True  True  True]\n",
      " [ True  True  True]\n",
      " [ True  True  True]]\n"
     ]
    }
   ],
   "source": [
    "data = np.array([[True, True, True],[True, True, True],[True, True, True]])\n",
    "print(data)"
   ]
  },
  {
   "cell_type": "code",
   "execution_count": 39,
   "id": "ea54f248-2e5d-490d-853e-cb96a03d12e6",
   "metadata": {},
   "outputs": [
    {
     "name": "stdout",
     "output_type": "stream",
     "text": [
      "[[ True  True  True]\n",
      " [ True  True  True]\n",
      " [ True  True  True]]\n"
     ]
    }
   ],
   "source": [
    "data = np.ones((3,3), dtype=bool)\n",
    "print(data)"
   ]
  },
  {
   "cell_type": "markdown",
   "id": "eb67bd46-7f31-4a9f-ab5f-b00476c961a4",
   "metadata": {},
   "source": [
    "# Extract the documentation of NumPy’s arange() function"
   ]
  },
  {
   "cell_type": "code",
   "execution_count": 46,
   "id": "230442fd-0638-4304-a2c9-3b72d83046ed",
   "metadata": {},
   "outputs": [
    {
     "name": "stdout",
     "output_type": "stream",
     "text": [
      "arange([start,] stop[, step,], dtype=None, *, like=None)\n",
      "\n",
      "Return evenly spaced values within a given interval.\n",
      "\n",
      "``arange`` can be called with a varying number of positional arguments:\n",
      "\n",
      "* ``arange(stop)``: Values are generated within the half-open interval\n",
      "  ``[0, stop)`` (in other words, the interval including `start` but\n",
      "  excluding `stop`).\n",
      "* ``arange(start, stop)``: Values are generated within the half-open\n",
      "  interval ``[start, stop)``.\n",
      "* ``arange(start, stop, step)`` Values are generated within the half-open\n",
      "  interval ``[start, stop)``, with spacing between values given by\n",
      "  ``step``.\n",
      "\n",
      "For integer arguments the function is roughly equivalent to the Python\n",
      "built-in :py:class:`range`, but returns an ndarray rather than a ``range``\n",
      "instance.\n",
      "\n",
      "When using a non-integer step, such as 0.1, it is often better to use\n",
      "`numpy.linspace`.\n",
      "\n",
      "See the Warning sections below for more information.\n",
      "\n",
      "Parameters\n",
      "----------\n",
      "start : integer or real, optional\n",
      "    Start of interval.  The interval includes this value.  The default\n",
      "    start value is 0.\n",
      "stop : integer or real\n",
      "    End of interval.  The interval does not include this value, except\n",
      "    in some cases where `step` is not an integer and floating point\n",
      "    round-off affects the length of `out`.\n",
      "step : integer or real, optional\n",
      "    Spacing between values.  For any output `out`, this is the distance\n",
      "    between two adjacent values, ``out[i+1] - out[i]``.  The default\n",
      "    step size is 1.  If `step` is specified as a position argument,\n",
      "    `start` must also be given.\n",
      "dtype : dtype, optional\n",
      "    The type of the output array.  If `dtype` is not given, infer the data\n",
      "    type from the other input arguments.\n",
      "like : array_like, optional\n",
      "    Reference object to allow the creation of arrays which are not\n",
      "    NumPy arrays. If an array-like passed in as ``like`` supports\n",
      "    the ``__array_function__`` protocol, the result will be defined\n",
      "    by it. In this case, it ensures the creation of an array object\n",
      "    compatible with that passed in via this argument.\n",
      "\n",
      "    .. versionadded:: 1.20.0\n",
      "\n",
      "Returns\n",
      "-------\n",
      "arange : ndarray\n",
      "    Array of evenly spaced values.\n",
      "\n",
      "    For floating point arguments, the length of the result is\n",
      "    ``ceil((stop - start)/step)``.  Because of floating point overflow,\n",
      "    this rule may result in the last element of `out` being greater\n",
      "    than `stop`.\n",
      "\n",
      "Warnings\n",
      "--------\n",
      "The length of the output might not be numerically stable.\n",
      "\n",
      "Another stability issue is due to the internal implementation of\n",
      "`numpy.arange`.\n",
      "The actual step value used to populate the array is\n",
      "``dtype(start + step) - dtype(start)`` and not `step`. Precision loss\n",
      "can occur here, due to casting or due to using floating points when\n",
      "`start` is much larger than `step`. This can lead to unexpected\n",
      "behaviour. For example::\n",
      "\n",
      "  >>> np.arange(0, 5, 0.5, dtype=int)\n",
      "  array([0, 0, 0, 0, 0, 0, 0, 0, 0, 0])\n",
      "  >>> np.arange(-3, 3, 0.5, dtype=int)\n",
      "  array([-3, -2, -1,  0,  1,  2,  3,  4,  5,  6,  7,  8])\n",
      "\n",
      "In such cases, the use of `numpy.linspace` should be preferred.\n",
      "\n",
      "The built-in :py:class:`range` generates :std:doc:`Python built-in integers\n",
      "that have arbitrary size <python:c-api/long>`, while `numpy.arange`\n",
      "produces `numpy.int32` or `numpy.int64` numbers. This may result in\n",
      "incorrect results for large integer values::\n",
      "\n",
      "  >>> power = 40\n",
      "  >>> modulo = 10000\n",
      "  >>> x1 = [(n ** power) % modulo for n in range(8)]\n",
      "  >>> x2 = [(n ** power) % modulo for n in np.arange(8)]\n",
      "  >>> print(x1)\n",
      "  [0, 1, 7776, 8801, 6176, 625, 6576, 4001]  # correct\n",
      "  >>> print(x2)\n",
      "  [0, 1, 7776, 7185, 0, 5969, 4816, 3361]  # incorrect\n",
      "\n",
      "See Also\n",
      "--------\n",
      "numpy.linspace : Evenly spaced numbers with careful handling of endpoints.\n",
      "numpy.ogrid: Arrays of evenly spaced numbers in N-dimensions.\n",
      "numpy.mgrid: Grid-shaped arrays of evenly spaced numbers in N-dimensions.\n",
      ":ref:`how-to-partition`\n",
      "\n",
      "Examples\n",
      "--------\n",
      ">>> np.arange(3)\n",
      "array([0, 1, 2])\n",
      ">>> np.arange(3.0)\n",
      "array([ 0.,  1.,  2.])\n",
      ">>> np.arange(3,7)\n",
      "array([3, 4, 5, 6])\n",
      ">>> np.arange(3,7,2)\n",
      "array([3, 5])\n"
     ]
    }
   ],
   "source": [
    "np.info(np.arange)"
   ]
  },
  {
   "cell_type": "markdown",
   "id": "0022ae8f-8abc-4ec7-b241-20e2bec6aff0",
   "metadata": {},
   "source": [
    "# Create a 1D array filled with zeros and another filled with ones"
   ]
  },
  {
   "cell_type": "code",
   "execution_count": 53,
   "id": "a9d79b57-3fe0-4452-bb68-e6f62a8cf425",
   "metadata": {},
   "outputs": [
    {
     "name": "stdout",
     "output_type": "stream",
     "text": [
      "Zeros: [0. 0. 0. 0. 0.]\n",
      "Ones: [1. 1. 1. 1. 1.]\n"
     ]
    }
   ],
   "source": [
    "Zee = np.zeros(5)\n",
    "dee = np.ones(5)\n",
    "print('Zeros:', Zee)\n",
    "print('Ones:', dee)"
   ]
  },
  {
   "cell_type": "markdown",
   "id": "2b6e6a3c-7bd8-4b31-a352-bf16c3e4b322",
   "metadata": {},
   "source": [
    "# Create a 1D array of 10 evenly spaced values between 5 and 50"
   ]
  },
  {
   "cell_type": "code",
   "execution_count": 62,
   "id": "865bd36f-625e-4a0c-a63e-0fa1c2f63009",
   "metadata": {},
   "outputs": [
    {
     "name": "stdout",
     "output_type": "stream",
     "text": [
      "[ 5. 10. 15. 20. 25. 30. 35. 40. 45. 50.]\n"
     ]
    }
   ],
   "source": [
    "ar = np.linspace(5, 50, 10)\n",
    "print(ar)"
   ]
  },
  {
   "cell_type": "markdown",
   "id": "9bbb7132-4b99-49e2-9bf4-9c5888c41ec7",
   "metadata": {},
   "source": [
    "# Convert a Python list into a NumPy array"
   ]
  },
  {
   "cell_type": "code",
   "execution_count": 67,
   "id": "b365f1a7-ddd3-4f6a-8d17-6be4c1872299",
   "metadata": {},
   "outputs": [
    {
     "name": "stdout",
     "output_type": "stream",
     "text": [
      "[1 2 3 4 5]\n"
     ]
    }
   ],
   "source": [
    "py_list = [1, 2, 3, 4, 5]\n",
    "py_array = np.array(py_list)\n",
    "print(py_array)"
   ]
  },
  {
   "cell_type": "markdown",
   "id": "606df44e-a4af-44cd-a554-2f81d3d87816",
   "metadata": {},
   "source": [
    " # Find the memory size of a NumPy array of numbers from 0 to 9"
   ]
  },
  {
   "cell_type": "code",
   "execution_count": 80,
   "id": "c93d2ac1-e5e5-4237-8a40-eabf06bf7932",
   "metadata": {},
   "outputs": [
    {
     "name": "stdout",
     "output_type": "stream",
     "text": [
      "Array: [0 1 2 3 4 5 6 7 8 9]\n",
      "Memory size in bytes: 40\n"
     ]
    }
   ],
   "source": [
    "data = np.arange(10)\n",
    "print('Array:',data)\n",
    "print('Memory size in bytes:', data.nbytes)"
   ]
  },
  {
   "cell_type": "markdown",
   "id": "80ea4cb6-cd8a-4ef4-92ce-70522796d580",
   "metadata": {},
   "source": [
    "# Reverse a 1D NumPy array"
   ]
  },
  {
   "cell_type": "code",
   "execution_count": 85,
   "id": "8538e95f-f858-4432-97ae-34d7aba6727f",
   "metadata": {},
   "outputs": [
    {
     "name": "stdout",
     "output_type": "stream",
     "text": [
      "[9 8 7 6 5 4 3 2 1 0]\n"
     ]
    }
   ],
   "source": [
    "arr = np.arange(10)\n",
    "reversed1 = arr[::-1]\n",
    "print(reversed1)"
   ]
  },
  {
   "cell_type": "markdown",
   "id": "e3f43337-9ab6-4374-b076-6f2c91ab26c3",
   "metadata": {},
   "source": [
    "#  Create a 3×3 identity matrix"
   ]
  },
  {
   "cell_type": "code",
   "execution_count": 105,
   "id": "7e112c8e-ffc6-4d01-ae63-00286b09e45e",
   "metadata": {},
   "outputs": [
    {
     "name": "stdout",
     "output_type": "stream",
     "text": [
      "[[1. 0. 0.]\n",
      " [0. 1. 0.]\n",
      " [0. 0. 1.]]\n"
     ]
    }
   ],
   "source": [
    "data = np.eye(3, 3)\n",
    "print(data)"
   ]
  },
  {
   "cell_type": "markdown",
   "id": "6350154d-b3d4-43e2-8783-274c05f442bc",
   "metadata": {},
   "source": [
    "# Create a 4×4 array and extract its first row and last column"
   ]
  },
  {
   "cell_type": "code",
   "execution_count": 124,
   "id": "6a7bdaee-98cd-4005-82e0-f76c1ad81a8e",
   "metadata": {},
   "outputs": [
    {
     "name": "stdout",
     "output_type": "stream",
     "text": [
      "Array:\n",
      " [[ 1  2  3  4]\n",
      " [ 5  6  7  8]\n",
      " [ 9 10 11 12]\n",
      " [13 14 15 16]]\n",
      "First Row: [1 2 3 4]\n",
      "Last column: [ 4  8 12 16]\n"
     ]
    }
   ],
   "source": [
    "data = np.arange(1, 17).reshape(4,4)\n",
    "print('Array:\\n',data)\n",
    "print('First Row:', data[0])\n",
    "print('Last column:', data[:,-1])"
   ]
  },
  {
   "cell_type": "markdown",
   "id": "42f3f78d-e79e-4696-84d9-1f179a550f8b",
   "metadata": {},
   "source": [
    "#  Extract Odd Rows and Even Columns"
   ]
  },
  {
   "cell_type": "code",
   "execution_count": 8,
   "id": "6f491f13-41f3-47eb-ad0a-5cfab3a31cf5",
   "metadata": {},
   "outputs": [
    {
     "name": "stdout",
     "output_type": "stream",
     "text": [
      "New array with odd rows and even columns:\n",
      " [[15 21]\n",
      " [39 45]]\n"
     ]
    }
   ],
   "source": [
    "import numpy as np\n",
    "sampleArray = np.array([\n",
    "    [3, 6, 9, 12], \n",
    "    [15, 18, 21, 24], \n",
    "    [27, 30, 33, 36], \n",
    "    [39, 42, 45, 48], \n",
    "    [51, 54, 57, 60]\n",
    "])\n",
    "new = sampleArray[1::2, ::2]\n",
    "print('New array with odd rows and even columns:\\n', new)"
   ]
  },
  {
   "cell_type": "markdown",
   "id": "4423b260-07bb-4819-80c7-44c3df1c9651",
   "metadata": {},
   "source": [
    "# Stack arrays horizontally"
   ]
  },
  {
   "cell_type": "code",
   "execution_count": 13,
   "id": "7cd358b9-2ede-45af-8b43-e18f58c8aa52",
   "metadata": {},
   "outputs": [
    {
     "name": "stdout",
     "output_type": "stream",
     "text": [
      "[1 2 3 4 5 6]\n"
     ]
    }
   ],
   "source": [
    "a = np.array([1, 2, 3])\n",
    "b = np.array([4, 5, 6])\n",
    "c = np.hstack((a,b))\n",
    "print(c)"
   ]
  },
  {
   "cell_type": "markdown",
   "id": "c3fcbd5f-50d4-481b-bb65-8e3068634c50",
   "metadata": {},
   "source": [
    "# Slice the first two rows and first two columns from a 4×4 array"
   ]
  },
  {
   "cell_type": "code",
   "execution_count": 28,
   "id": "1921cac1-8cf1-4bdd-a6cd-4fafa13a1307",
   "metadata": {},
   "outputs": [
    {
     "name": "stdout",
     "output_type": "stream",
     "text": [
      "Array:\n",
      " [[ 1  2  3  4]\n",
      " [ 5  6  7  8]\n",
      " [ 9 10 11 12]\n",
      " [13 14 15 16]]\n",
      "First 2 rows and columns:\n",
      " [[1 2]\n",
      " [5 6]]\n"
     ]
    }
   ],
   "source": [
    "data = np.arange(1, 17).reshape(4,4)\n",
    "print('Array:\\n',data)\n",
    "new = data[0:2, 0:2]\n",
    "print('First 2 rows and columns:\\n',new)"
   ]
  },
  {
   "cell_type": "markdown",
   "id": "291ecdae-e445-4388-bb9e-c2f4acab07bf",
   "metadata": {},
   "source": [
    "# Replace all odd numbers in a NumPy array with -1"
   ]
  },
  {
   "cell_type": "code",
   "execution_count": 36,
   "id": "ace4133a-f029-4085-a996-07474d0abe6b",
   "metadata": {},
   "outputs": [
    {
     "name": "stdout",
     "output_type": "stream",
     "text": [
      "original: [ 1  2  3  4  5  6  7  8  9 10]\n",
      "new: [-1  2 -1  4 -1  6 -1  8 -1 10]\n"
     ]
    }
   ],
   "source": [
    "data = np.arange(1,11)\n",
    "print('original:',data)\n",
    "data[data % 2 == 1] = -1\n",
    "print('new:', data)"
   ]
  },
  {
   "cell_type": "markdown",
   "id": "137017ad-8d00-4573-b8aa-131229a93ece",
   "metadata": {},
   "source": [
    "# Get the indices of non-zero elements in an array"
   ]
  },
  {
   "cell_type": "code",
   "execution_count": 43,
   "id": "3f6df1ec-b435-44ba-ac3d-73a028f464d8",
   "metadata": {},
   "outputs": [
    {
     "name": "stdout",
     "output_type": "stream",
     "text": [
      "Array: [1 0 2 0 3 0 4]\n",
      "Indices: (array([0, 2, 4, 6], dtype=int64),)\n"
     ]
    }
   ],
   "source": [
    "data = np.array([1, 0, 2, 0, 3, 0, 4])\n",
    "print('Array:',data)\n",
    "data2 = np.nonzero(data)\n",
    "print('Indices:', data2)"
   ]
  },
  {
   "cell_type": "markdown",
   "id": "43c4fff1-da10-42cb-88ac-2b567e2221cc",
   "metadata": {},
   "source": [
    "# Find the common items between two arrays"
   ]
  },
  {
   "cell_type": "code",
   "execution_count": 46,
   "id": "fb26d3e9-e317-43a9-9f00-227babafdd9c",
   "metadata": {},
   "outputs": [
    {
     "name": "stdout",
     "output_type": "stream",
     "text": [
      "[2 4 8]\n"
     ]
    }
   ],
   "source": [
    "a = np.array([1, 2, 3, 2, 8, 4, 2, 4])\n",
    "b = np.array([2, 4, 5, 6, 8])\n",
    "c = np.intersect1d(a,b)\n",
    "print(c)"
   ]
  },
  {
   "cell_type": "markdown",
   "id": "06382149-1514-4eda-903f-4e78dbe210d6",
   "metadata": {},
   "source": [
    "# Perform arithmetic operations on two NumPy arrays element-wise\n",
    "\n",
    "Add two NumPy arrays element by element.\n",
    "\n",
    "Multiply two NumPy arrays element by element."
   ]
  },
  {
   "cell_type": "code",
   "execution_count": 58,
   "id": "9bdf015a-fb1f-481a-9372-68aebee78a53",
   "metadata": {},
   "outputs": [
    {
     "name": "stdout",
     "output_type": "stream",
     "text": [
      "Sum: [5 7 9]\n"
     ]
    }
   ],
   "source": [
    "a = np.array([1, 2, 3])\n",
    "b = np.array([4, 5, 6])\n",
    "c = np.add(a,b) # or c = a + b\n",
    "print('Sum:', c)"
   ]
  },
  {
   "cell_type": "code",
   "execution_count": 56,
   "id": "7dc0895e-a3b6-42e4-8c43-fdea3c99e155",
   "metadata": {},
   "outputs": [
    {
     "name": "stdout",
     "output_type": "stream",
     "text": [
      "multiplication: [ 4 10 18]\n"
     ]
    }
   ],
   "source": [
    "d= np.multiply(a,b) # or d = a * b\n",
    "print('multiplication:', d)"
   ]
  },
  {
   "cell_type": "markdown",
   "id": "bc508e03-d3b1-4f7e-a77a-63506b923464",
   "metadata": {},
   "source": [
    "# Matrix multiplication\n",
    "Write a code to compute the dot product of two NumPy arrays"
   ]
  },
  {
   "cell_type": "code",
   "execution_count": 63,
   "id": "45d05211-86b7-41c8-b430-95fa313a0396",
   "metadata": {},
   "outputs": [
    {
     "name": "stdout",
     "output_type": "stream",
     "text": [
      "dot product: 32\n"
     ]
    }
   ],
   "source": [
    "a = np.array([1, 2, 3])\n",
    "b = np.array([4, 5, 6])\n",
    "c = np.dot(a,b) # or a @ b\n",
    "print('dot product:', c)"
   ]
  },
  {
   "cell_type": "markdown",
   "id": "a3af8b6d-4a58-4f9d-b0f9-f9501498b368",
   "metadata": {},
   "source": [
    "# Compute the mean, median, and standard deviation of a NumPy array"
   ]
  },
  {
   "cell_type": "code",
   "execution_count": 70,
   "id": "37f7d3f8-16b4-4047-a6bf-1c8fe17319b8",
   "metadata": {},
   "outputs": [
    {
     "name": "stdout",
     "output_type": "stream",
     "text": [
      "mean: 110.0\n",
      "median: 65.0\n",
      "standard deviation: 107.08252269472673\n"
     ]
    }
   ],
   "source": [
    "arr = np.array([10, 20, 30, 100, 200, 300])\n",
    "print('mean:', np.mean(arr))\n",
    "print('median:', np.median(arr))\n",
    "print('standard deviation:', np.std(arr))"
   ]
  },
  {
   "cell_type": "markdown",
   "id": "26bfafbb-bd82-4d8b-8513-302410d78dca",
   "metadata": {},
   "source": [
    "# Remove common items from array\n",
    "\n",
    "The np.in1d() function checks if each element of the first array is also present in the second array, returning a boolean array.\n",
    "\n",
    "The ~ operator is the bitwise NOT operator, which inverts the boolean mask (e.g., True becomes False). We use this inverted mask to select only the elements from a that are not present in b."
   ]
  },
  {
   "cell_type": "code",
   "execution_count": 86,
   "id": "39a6c465-cd3e-460c-9012-d429db999b1a",
   "metadata": {},
   "outputs": [
    {
     "name": "stdout",
     "output_type": "stream",
     "text": [
      "[False False False False  True]\n",
      "[1 2 3 4]\n"
     ]
    }
   ],
   "source": [
    "a = np.array([1, 2, 3, 4, 5])\n",
    "b = np.array([5, 6, 7, 8, 9])\n",
    "c = np.in1d(a,b)\n",
    "d = a[~c]\n",
    "print(c)\n",
    "print(d)"
   ]
  },
  {
   "cell_type": "markdown",
   "id": "f8f1f116-4a26-4ccc-8dd6-7a23e0290f32",
   "metadata": {},
   "source": [
    "# Normalize a NumPy array (values between 0 and 1)\n",
    "\n",
    "(arr - arr.min()) / (arr.max() - arr.min()) :\n",
    "\n",
    "Subtract the minimum value so the smallest becomes 0.\n",
    "Divide by the range (max - min) so the largest becomes 1.\n",
    "This scales all values into [0, 1]."
   ]
  },
  {
   "cell_type": "code",
   "execution_count": 91,
   "id": "82566d96-4b83-49d2-bf02-336ed104dad7",
   "metadata": {},
   "outputs": [
    {
     "name": "stdout",
     "output_type": "stream",
     "text": [
      "[0.   0.25 0.5  0.75 1.  ]\n"
     ]
    }
   ],
   "source": [
    "arr = np.array([10, 20, 30, 40, 50])\n",
    "new = (arr - arr.min()) / (arr.max() - arr.min())\n",
    "print(new)"
   ]
  },
  {
   "cell_type": "markdown",
   "id": "1d154b1e-74df-4fe8-98d4-7bd18cd59c74",
   "metadata": {},
   "source": [
    "#  Get the positions where elements of array a and b match"
   ]
  },
  {
   "cell_type": "code",
   "execution_count": 95,
   "id": "76f9aeb2-41ce-4dd7-8053-504cdf59ec01",
   "metadata": {},
   "outputs": [
    {
     "name": "stdout",
     "output_type": "stream",
     "text": [
      "(array([0, 2], dtype=int64),)\n"
     ]
    }
   ],
   "source": [
    "a = np.array([1, 2, 3, 4, 5])\n",
    "b = np.array([1, 4, 3, 7, 8])\n",
    "c = np.where(a == b)\n",
    "print(c)"
   ]
  },
  {
   "cell_type": "markdown",
   "id": "ebfa431d-b164-4ee8-8b39-47d2f657b173",
   "metadata": {},
   "source": [
    "# Extract numbers from an array\n",
    "\n",
    "Write a code to extract all numbers from an array that are between 5 and 10 (inclusive)."
   ]
  },
  {
   "cell_type": "code",
   "execution_count": 99,
   "id": "53774ea2-901e-4a11-9d59-78d835b79c60",
   "metadata": {},
   "outputs": [
    {
     "name": "stdout",
     "output_type": "stream",
     "text": [
      "[ 5  6  7  8  9 10]\n"
     ]
    }
   ],
   "source": [
    "data = np.arange(20)\n",
    "data2 = data[(data >= 5) & (data <= 10)]\n",
    "print(data2)"
   ]
  },
  {
   "cell_type": "code",
   "execution_count": null,
   "id": "c2b59544-c954-4acf-b5f5-ab358f870bf5",
   "metadata": {},
   "outputs": [],
   "source": []
  }
 ],
 "metadata": {
  "kernelspec": {
   "display_name": "Python 3 (ipykernel)",
   "language": "python",
   "name": "python3"
  },
  "language_info": {
   "codemirror_mode": {
    "name": "ipython",
    "version": 3
   },
   "file_extension": ".py",
   "mimetype": "text/x-python",
   "name": "python",
   "nbconvert_exporter": "python",
   "pygments_lexer": "ipython3",
   "version": "3.12.7"
  }
 },
 "nbformat": 4,
 "nbformat_minor": 5
}
